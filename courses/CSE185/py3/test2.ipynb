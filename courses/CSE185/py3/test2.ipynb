{
 "cells": [
  {
   "cell_type": "code",
   "execution_count": 11,
   "id": "6d3b9d1f",
   "metadata": {},
   "outputs": [],
   "source": [
    "import scanpy as sc\n",
    "import numpy as np"
   ]
  },
  {
   "cell_type": "code",
   "execution_count": 12,
   "id": "e782e972",
   "metadata": {},
   "outputs": [
    {
     "name": "stderr",
     "output_type": "stream",
     "text": [
      "... reading from cache file cache\\C-Users-Amit Elia-Documents-CSE185-Patient2-matrix.h5ad\n"
     ]
    },
    {
     "name": "stdout",
     "output_type": "stream",
     "text": [
      "1.7.2\n"
     ]
    },
    {
     "ename": "AttributeError",
     "evalue": "'AnnData' object has no attribute 'head'",
     "output_type": "error",
     "traceback": [
      "\u001b[1;31m---------------------------------------------------------------------------\u001b[0m",
      "\u001b[1;31mAttributeError\u001b[0m                            Traceback (most recent call last)",
      "\u001b[1;32m<ipython-input-12-0c01b7e1aacb>\u001b[0m in \u001b[0;36m<module>\u001b[1;34m\u001b[0m\n\u001b[0;32m      3\u001b[0m \u001b[1;31m# Load in the data\u001b[0m\u001b[1;33m\u001b[0m\u001b[1;33m\u001b[0m\u001b[1;33m\u001b[0m\u001b[0m\n\u001b[0;32m      4\u001b[0m \u001b[0madata\u001b[0m \u001b[1;33m=\u001b[0m \u001b[0msc\u001b[0m\u001b[1;33m.\u001b[0m\u001b[0mread_10x_mtx\u001b[0m\u001b[1;33m(\u001b[0m\u001b[1;34m\"C:/Users/Amit Elia/Documents/CSE185/Patient2/\"\u001b[0m\u001b[1;33m,\u001b[0m\u001b[0mvar_names\u001b[0m\u001b[1;33m=\u001b[0m\u001b[1;34m'gene_symbols'\u001b[0m\u001b[1;33m,\u001b[0m \u001b[0mcache\u001b[0m\u001b[1;33m=\u001b[0m\u001b[1;32mTrue\u001b[0m\u001b[1;33m)\u001b[0m\u001b[1;33m\u001b[0m\u001b[1;33m\u001b[0m\u001b[0m\n\u001b[1;32m----> 5\u001b[1;33m \u001b[0madata\u001b[0m\u001b[1;33m.\u001b[0m\u001b[0mhead\u001b[0m\u001b[1;33m(\u001b[0m\u001b[1;33m)\u001b[0m\u001b[1;33m\u001b[0m\u001b[1;33m\u001b[0m\u001b[0m\n\u001b[0m",
      "\u001b[1;31mAttributeError\u001b[0m: 'AnnData' object has no attribute 'head'"
     ]
    }
   ],
   "source": [
    "print(sc.__version__)\n",
    "sc.settings.verbosity = 3\n",
    "# Load in the data\n",
    "adata = sc.read_10x_mtx(\"C:/Users/Amit Elia/Documents/CSE185/Patient2/\",var_names='gene_symbols', cache=True)\n",
    "adata.head()"
   ]
  },
  {
   "cell_type": "code",
   "execution_count": 13,
   "id": "b1b742e3",
   "metadata": {},
   "outputs": [
    {
     "name": "stdout",
     "output_type": "stream",
     "text": [
      "AnnData object with n_obs × n_vars = 737280 × 33538\n",
      "    var: 'gene_ids', 'feature_types'\n"
     ]
    }
   ],
   "source": [
    "print(adata)"
   ]
  },
  {
   "cell_type": "code",
   "execution_count": 14,
   "id": "8d3662a1",
   "metadata": {},
   "outputs": [
    {
     "name": "stderr",
     "output_type": "stream",
     "text": [
      "<ipython-input-14-2919926c7dc1>:2: RuntimeWarning: invalid value encountered in true_divide\n",
      "  adata.obs['percent_mito'] = np.sum(adata[:, mito_genes].X, axis=1).A1 / np.sum(adata.X, axis=1).A1\n",
      "normalizing counts per cell\n",
      "WARNING: Some cells have total count of genes equal to zero\n",
      "    finished (0:00:00)\n"
     ]
    },
    {
     "data": {
      "image/png": "[encoded data removed]",
      "text/plain": [
       "<Figure size 360x396 with 1 Axes>"
      ]
     },
     "metadata": {
      "needs_background": "light"
     },
     "output_type": "display_data"
    }
   ],
   "source": [
    "mito_genes = adata.var_names.str.startswith('mt-')\n",
    "adata.obs['percent_mito'] = np.sum(adata[:, mito_genes].X, axis=1).A1 / np.sum(adata.X, axis=1).A1\n",
    "sc.pp.filter_cells(adata, min_genes=0)\n",
    "adata.obs['n_counts'] = adata.X.sum(axis=1).A1\n",
    "\n",
    "adata_filt = adata[(adata.obs['n_counts']<500) & (adata.obs['percent_mito']<0.2), :]\n",
    "sc.pl.highest_expr_genes(adata, n_top=20)"
   ]
  },
  {
   "cell_type": "code",
   "execution_count": null,
   "metadata": {},
   "outputs": [],
   "source": [
    "def save_matrix_to_h5(gbm, filename, genome):\n",
    "    flt = tables.Filters(complevel=1)\n",
    "    with tables.open_file(filename, 'w', filters=flt) as f:\n",
    "        try:\n",
    "            group = f.create_group(f.root, genome)\n",
    "            f.create_carray(group, 'genes', obj=gbm.gene_ids)\n",
    "            f.create_carray(group, 'gene_names', obj=gbm.gene_names)\n",
    "            f.create_carray(group, 'barcodes', obj=gbm.barcodes)\n",
    "            f.create_carray(group, 'data', obj=gbm.matrix.data)\n",
    "            f.create_carray(group, 'indices', obj=gbm.matrix.indices)\n",
    "            f.create_carray(group, 'indptr', obj=gbm.matrix.indptr)\n",
    "            f.create_carray(group, 'shape', obj=gbm.matrix.shape)\n",
    "        except:\n",
    "            raise Exception(\"Failed to write H5 file.\")\n",
    "            \n",
    "save_matrix_to_h5(gbm, filename, genome)"
   ]
  },
  {
   "cell_type": "code",
   "execution_count": 18,
   "id": "3da3fb8a",
   "metadata": {},
   "outputs": [
    {
     "name": "stdout",
     "output_type": "stream",
     "text": [
      "AnnData object with n_obs × n_vars = 458014 × 33538\n",
      "    obs: 'percent_mito', 'n_genes', 'n_counts'\n",
      "    var: 'gene_ids', 'feature_types'\n"
     ]
    }
   ],
   "source": [
    "print(adata_filt)\n",
    "adata_filt.write('write/test2_raw.h5ad', compression='gzip')"
   ]
  },
  {
   "cell_type": "code",
   "execution_count": null,
   "id": "a4de87f7",
   "metadata": {},
   "outputs": [],
   "source": []
  }
 ],
 "metadata": {
  "kernelspec": {
   "display_name": "Python 3",
   "language": "python",
   "name": "python3"
  },
  "language_info": {
   "codemirror_mode": {
    "name": "ipython",
    "version": 3
   },
   "file_extension": ".py",
   "mimetype": "text/x-python",
   "name": "python",
   "nbconvert_exporter": "python",
   "pygments_lexer": "ipython3",
   "version": "3.8.8"
  }
 },
 "nbformat": 4,
 "nbformat_minor": 5
}
